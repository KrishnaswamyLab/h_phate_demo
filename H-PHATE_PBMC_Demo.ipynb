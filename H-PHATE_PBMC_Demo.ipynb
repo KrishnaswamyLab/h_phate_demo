{
 "cells": [
  {
   "cell_type": "markdown",
   "metadata": {},
   "source": [
    "### How to read this notebook\n",
    "\n",
    "**If you are viewing this on Binder** go to the toolbar above and click **Cell->Run all** to load the interactive plots. You can also press Shift-Return to run a single cell.\n",
    "\n",
    "_Parts of this notebook require an active Python server, which is why we recommend it be viewed in_ [_Binder_](https://mybinder.org/v2/gh/KrishnaswamyLab/h_phate_demo/main?filepath=H-PHATE_PBMC_Demo.ipynb). _You can also run it on your own local Jupyter server. If you have any problems, please_ [_post an issue on GitHub_](https://github.com/KrishnaswamyLab/h_phate_demo/issues).\n",
    "\n",
    "## H-PHATE Embryoid Body Demo\n",
    "\n",
    "The plot below shows an interactive visualization of PBMCs from a healthy donor. On the left, you can filter, subset, and expand groups of cells on the PHATE plot. On the right, you can select groups of similar genes and view which cells express these genes. After subsetting the cells plot, you can recompute the genes plot to see the relationships between genes on the shown subset of cells."
   ]
  },
  {
   "cell_type": "code",
   "execution_count": 1,
   "metadata": {},
   "outputs": [],
   "source": [
    "import h_phate"
   ]
  },
  {
   "cell_type": "code",
   "execution_count": 2,
   "metadata": {},
   "outputs": [],
   "source": [
    "data = h_phate.data.load_pbmc()"
   ]
  },
  {
   "cell_type": "code",
   "execution_count": 3,
   "metadata": {},
   "outputs": [],
   "source": [
    "h_phate_op = h_phate.H_PHATE().fit(data)"
   ]
  },
  {
   "cell_type": "code",
   "execution_count": 4,
   "metadata": {},
   "outputs": [
    {
     "data": {
      "application/vnd.jupyter.widget-view+json": {
       "model_id": "b5ad0108fdaa447b8a7bfe215d4687bd",
       "version_major": 2,
       "version_minor": 0
      },
      "text/plain": [
       "VBox(children=(HBox(children=(FigureWidget({\n",
       "    'data': [{'marker': {'line': {'width': 0},\n",
       "                  …"
      ]
     },
     "metadata": {},
     "output_type": "display_data"
    }
   ],
   "source": [
    "h_phate_op.dashboard"
   ]
  }
 ],
 "metadata": {
  "kernelspec": {
   "display_name": "Python 3",
   "language": "python",
   "name": "python3"
  },
  "language_info": {
   "codemirror_mode": {
    "name": "ipython",
    "version": 3
   },
   "file_extension": ".py",
   "mimetype": "text/x-python",
   "name": "python",
   "nbconvert_exporter": "python",
   "pygments_lexer": "ipython3",
   "version": "3.8.5"
  }
 },
 "nbformat": 4,
 "nbformat_minor": 4
}
